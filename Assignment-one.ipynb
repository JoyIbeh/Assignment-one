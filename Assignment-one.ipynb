{
 "cells": [
  {
   "cell_type": "code",
   "execution_count": 6,
   "id": "41bb1929",
   "metadata": {},
   "outputs": [
    {
     "data": {
      "text/plain": [
       "' Question one\\n \\n print(\"\\ta\\tb\\tc\")\\n print(\"\\\\\\\\\")\\n print(\"\\'\")\\n\\n print(\"\"\"\"\")\\n\\n print(\"C:\\nin\\the downward spiral\")'"
      ]
     },
     "execution_count": 6,
     "metadata": {},
     "output_type": "execute_result"
    }
   ],
   "source": [
    "   ''' Question one\n",
    "    \n",
    "    print(\"\\ta\\tb\\tc\")\n",
    "    print(\"\\\\\\\\\")\n",
    "    print(\"'\")\n",
    "\n",
    "    print(\"\\\"\\\"\\\"\")\n",
    "\n",
    "    print(\"C:\\nin\\the downward spiral\")'''\n",
    "\n",
    "    "
   ]
  },
  {
   "cell_type": "code",
   "execution_count": 2,
   "id": "8612bd4a",
   "metadata": {},
   "outputs": [
    {
     "name": "stdout",
     "output_type": "stream",
     "text": [
      "\ta\tb\tc\n"
     ]
    }
   ],
   "source": [
    "print(\"\\ta\\tb\\tc\")"
   ]
  },
  {
   "cell_type": "code",
   "execution_count": 4,
   "id": "e98fa9ea",
   "metadata": {},
   "outputs": [
    {
     "name": "stdout",
     "output_type": "stream",
     "text": [
      "\\\\\n"
     ]
    }
   ],
   "source": [
    "print(\"\\\\\\\\\")"
   ]
  },
  {
   "cell_type": "code",
   "execution_count": 5,
   "id": "00cb5ee2",
   "metadata": {},
   "outputs": [
    {
     "name": "stdout",
     "output_type": "stream",
     "text": [
      " '\n"
     ]
    }
   ],
   "source": [
    "print(\" '\")"
   ]
  },
  {
   "cell_type": "code",
   "execution_count": 7,
   "id": "1a7a0858",
   "metadata": {},
   "outputs": [
    {
     "name": "stdout",
     "output_type": "stream",
     "text": [
      "\"\"\"\n"
     ]
    }
   ],
   "source": [
    "print(\"\\\"\\\"\\\"\")"
   ]
  },
  {
   "cell_type": "code",
   "execution_count": 8,
   "id": "58715f66",
   "metadata": {},
   "outputs": [
    {
     "name": "stdout",
     "output_type": "stream",
     "text": [
      "C:\n",
      "in\the downward spiral\n"
     ]
    }
   ],
   "source": [
    " print(\"C:\\nin\\the downward spiral\")"
   ]
  },
  {
   "cell_type": "code",
   "execution_count": null,
   "id": "6b3998b8",
   "metadata": {},
   "outputs": [],
   "source": [
    "'''QUESTION 2\n",
    "2.\tWrite a print statement to produce this output:\n",
    "/ \\ // \\\\ /// \\\\\\'''\n"
   ]
  },
  {
   "cell_type": "code",
   "execution_count": 10,
   "id": "b4d65a4f",
   "metadata": {},
   "outputs": [
    {
     "name": "stdout",
     "output_type": "stream",
     "text": [
      "/ \\ // \\\\ /// \\\\\\\n"
     ]
    }
   ],
   "source": [
    "print(\"/ \\\\ // \\\\\\\\ /// \\\\\\\\\\\\\")"
   ]
  },
  {
   "cell_type": "code",
   "execution_count": null,
   "id": "8959fced",
   "metadata": {},
   "outputs": [],
   "source": [
    "3.\t'''What print statements will generate this output?\n",
    "This quote is from\n",
    "Irish poet Oscar Wilde:\n",
    "\"Music makes one feel so romantic\n",
    "\n",
    "- at least it always gets on one's nerves \n",
    "– which is the same thing nowadays.\"'''\n"
   ]
  },
  {
   "cell_type": "code",
   "execution_count": 27,
   "id": "5ad663b2",
   "metadata": {},
   "outputs": [
    {
     "name": "stdout",
     "output_type": "stream",
     "text": [
      "This quote is from \n",
      "Irish poet Oscar Wilde: \n",
      " \"Music makes one feel so romantic \n",
      "- at least it always gets on one's nerves – which is the same thing nowadays\"\n"
     ]
    }
   ],
   "source": [
    "print('This quote is from \\nIrish poet Oscar Wilde: \\n \"Music makes one feel so romantic \\n- at least it always gets on one\\'s nerves – which is the same thing nowadays\"')\n",
    "\n",
    "\n"
   ]
  },
  {
   "cell_type": "code",
   "execution_count": null,
   "id": "19808306",
   "metadata": {},
   "outputs": [],
   "source": [
    "'''\n",
    "QUESTION FOUR\n",
    "\n",
    "What print statements will generate this output?\n",
    "A \"quoted\" String is 'much' better if you learn\n",
    "the rules of \"escape sequences.\" \n",
    "Also, \"\" represents an empty String.\n",
    "Don't forget: use \\\" instead of \" ! '' is not the same as \"\n",
    "'''"
   ]
  },
  {
   "cell_type": "code",
   "execution_count": 50,
   "id": "ffdaf163",
   "metadata": {},
   "outputs": [
    {
     "name": "stdout",
     "output_type": "stream",
     "text": [
      "A \"quoted\" string is 'much' better if you learn \n",
      "  the rules of \"escape sequences.\" \n",
      " Also, \\\" represents an empty string.\n",
      " Don't forget: use \\\" instead of \" ! '' is not the same as \" \n"
     ]
    }
   ],
   "source": [
    "print('A \"quoted\" string is \\'much\\' better if you learn \\n  the rules of \"escape sequences.\" \\n Also, \\\\\" represents an empty string.\\n Don\\'t forget: use \\\\\" instead of \" ! \\'\\' is not the same as \" ')\n"
   ]
  },
  {
   "cell_type": "code",
   "execution_count": null,
   "id": "f0b564c7",
   "metadata": {},
   "outputs": [],
   "source": [
    "'''\n",
    "QUESTION 5\n",
    "\n",
    "5.\tWhat values result from the following expressions?\n",
    "–\t9 / 5\n",
    "–\t695 % 20\n",
    "–\t7 + 6 * 5\n",
    "–\t7 * 6 + 5\n",
    "–\t248 % 100 / 5\n",
    "–\t6 * 3 - 9 / 4\n",
    "–\t(5 - 7) * 4\n",
    "–\t6 + (18 % (17 - 12))'''\n"
   ]
  },
  {
   "cell_type": "code",
   "execution_count": 51,
   "id": "638f493b",
   "metadata": {},
   "outputs": [
    {
     "name": "stdout",
     "output_type": "stream",
     "text": [
      "1.8\n"
     ]
    }
   ],
   "source": [
    "print(9/5)"
   ]
  },
  {
   "cell_type": "code",
   "execution_count": 52,
   "id": "3f28c3c7",
   "metadata": {},
   "outputs": [
    {
     "name": "stdout",
     "output_type": "stream",
     "text": [
      "15\n"
     ]
    }
   ],
   "source": [
    "print(695%20)"
   ]
  },
  {
   "cell_type": "code",
   "execution_count": 53,
   "id": "88c345bb",
   "metadata": {},
   "outputs": [
    {
     "name": "stdout",
     "output_type": "stream",
     "text": [
      "37\n"
     ]
    }
   ],
   "source": [
    "print(7+6*5)"
   ]
  },
  {
   "cell_type": "code",
   "execution_count": 54,
   "id": "778430f3",
   "metadata": {},
   "outputs": [
    {
     "name": "stdout",
     "output_type": "stream",
     "text": [
      "47\n"
     ]
    }
   ],
   "source": [
    "print(7*6+5)"
   ]
  },
  {
   "cell_type": "code",
   "execution_count": 59,
   "id": "b58671ee",
   "metadata": {},
   "outputs": [
    {
     "name": "stdout",
     "output_type": "stream",
     "text": [
      "9.0\n"
     ]
    }
   ],
   "source": [
    "print(245 % 100) / 5"
   ]
  },
  {
   "cell_type": "code",
   "execution_count": 60,
   "id": "e4a6973a",
   "metadata": {},
   "outputs": [
    {
     "name": "stdout",
     "output_type": "stream",
     "text": [
      "15.75\n"
     ]
    }
   ],
   "source": [
    "print (6 * 3 - 9 / 4)"
   ]
  },
  {
   "cell_type": "code",
   "execution_count": 61,
   "id": "37465e96",
   "metadata": {},
   "outputs": [
    {
     "name": "stdout",
     "output_type": "stream",
     "text": [
      "-8\n"
     ]
    }
   ],
   "source": [
    "print( (5 - 7) * 4)"
   ]
  },
  {
   "cell_type": "code",
   "execution_count": 62,
   "id": "05b7e725",
   "metadata": {},
   "outputs": [
    {
     "name": "stdout",
     "output_type": "stream",
     "text": [
      "9\n"
     ]
    }
   ],
   "source": [
    "print (6 + (18 % (17 - 12)))"
   ]
  },
  {
   "cell_type": "code",
   "execution_count": null,
   "id": "07ab8db2",
   "metadata": {},
   "outputs": [],
   "source": []
  },
  {
   "cell_type": "code",
   "execution_count": null,
   "id": "be90aab3",
   "metadata": {},
   "outputs": [],
   "source": []
  },
  {
   "cell_type": "code",
   "execution_count": null,
   "id": "201adf06",
   "metadata": {},
   "outputs": [],
   "source": []
  }
 ],
 "metadata": {
  "kernelspec": {
   "display_name": "Python 3 (ipykernel)",
   "language": "python",
   "name": "python3"
  },
  "language_info": {
   "codemirror_mode": {
    "name": "ipython",
    "version": 3
   },
   "file_extension": ".py",
   "mimetype": "text/x-python",
   "name": "python",
   "nbconvert_exporter": "python",
   "pygments_lexer": "ipython3",
   "version": "3.11.3"
  }
 },
 "nbformat": 4,
 "nbformat_minor": 5
}
